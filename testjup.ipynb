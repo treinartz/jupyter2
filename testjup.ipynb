{
 "cells": [
  {
   "cell_type": "code",
   "execution_count": 1,
   "id": "683cd47b-afbf-4ad5-a34f-f5f7a8a99a3a",
   "metadata": {},
   "outputs": [],
   "source": [
    "\n",
    "\n",
    "def setup():\n",
    "    size(200, 200)\n",
    "    rect_mode(CENTER)\n",
    "\n",
    "def draw():\n",
    "    rect(mouse_x, mouse_y, 10, 10)\n",
    "\n",
    "# run the sketch with the window at position 400, 300 on display #1\n",
    "run_sketch()\n",
    "# this will print 'py5 is awesome'\n",
    "#print(pargs[0])"
   ]
  },
  {
   "cell_type": "code",
   "execution_count": null,
   "id": "2f1e654e-f17d-489a-b5bd-4cda3e0865db",
   "metadata": {},
   "outputs": [],
   "source": []
  },
  {
   "cell_type": "code",
   "execution_count": 2,
   "id": "57b8d834-6dd8-4f09-a0f1-2f0a6c965b7c",
   "metadata": {},
   "outputs": [
    {
     "name": "stdout",
     "output_type": "stream",
     "text": [
      "py5 is awesome\n"
     ]
    }
   ],
   "source": [
    "\n",
    "\n",
    "def setup():\n",
    "    size(200, 200)\n",
    "    rect_mode(CENTER)\n",
    "\n",
    "def draw():\n",
    "    rect(mouse_x, mouse_y, 10, 10)\n",
    "\n",
    "# run the sketch with the window at position 400, 300 on display #1\n",
    "run_sketch(block=False, py5_options=['--location=400,300', '--display=1'], sketch_args=['py5 is awesome'])\n",
    "# this will print 'py5 is awesome'\n",
    "print(pargs[0])"
   ]
  },
  {
   "cell_type": "code",
   "execution_count": null,
   "id": "948723c3-1d88-452a-9e6d-19af57540a95",
   "metadata": {},
   "outputs": [],
   "source": [
    "<iframe src=\"https://docs.google.com/presentation/d/e/2PACX-1vSq7W0GFcNeAE8mfJTmLZmUlkKeDeIPKMbmD_VIjROEzrJfiB0mqDUI_xiceLMx0OMd8V61Rpd5DjeS/embed?start=false&loop=false&delayms=3000\" frameborder=\"0\" width=\"960\" height=\"569\" allowfullscreen=\"true\" mozallowfullscreen=\"true\" webkitallowfullscreen=\"true\"></iframe>"
   ]
  },
  {
   "cell_type": "markdown",
   "id": "b3ebef0e-cd80-47d3-b366-0893d444c40e",
   "metadata": {},
   "source": [
    "<iframe src=\"https://docs.google.com/presentation/d/e/2PACX-1vSq7W0GFcNeAE8mfJTmLZmUlkKeDeIPKMbmD_VIjROEzrJfiB0mqDUI_xiceLMx0OMd8V61Rpd5DjeS/embed?start=false&loop=false&delayms=3000\" frameborder=\"0\" width=\"960\" height=\"569\" allowfullscreen=\"true\" mozallowfullscreen=\"true\" webkitallowfullscreen=\"true\"></iframe>\n"
   ]
  },
  {
   "cell_type": "markdown",
   "id": "6ce74eb7-8146-4df6-86f0-3f79a1f8e3f6",
   "metadata": {},
   "source": [
    "<iframe src=\"https://docs.google.com/presentation/d/e/2PACX-1vSq7W0GFcNeAE8mfJTmLZmUlkKeDeIPKMbmD_VIjROEzrJfiB0mqDUI_xiceLMx0OMd8V61Rpd5DjeS/embed?start=false&loop=false&delayms=3000\" frameborder=\"0\" width=\"960\" height=\"569\" allowfullscreen=\"true\" mozallowfullscreen=\"true\" webkitallowfullscreen=\"true\"></iframe>"
   ]
  },
  {
   "cell_type": "markdown",
   "id": "46616270-6a58-4410-9f85-8b96d571510e",
   "metadata": {},
   "source": [
    "<iframe src=\"https://docs.google.com/presentation/d/e/2PACX-1vSq7W0GFcNeAE8mfJTmLZmUlkKeDeIPKMbmD_VIjROEzrJfiB0mqDUI_xiceLMx0OMd8V61Rpd5DjeS/embed?start=false&loop=false&delayms=3000\" frameborder=\"0\" width=\"960\" height=\"569\" allowfullscreen=\"true\" mozallowfullscreen=\"true\" webkitallowfullscreen=\"true\"></iframe>"
   ]
  },
  {
   "cell_type": "markdown",
   "id": "9ac0e1d3-c94d-41f4-89bb-d27e94dbd87a",
   "metadata": {},
   "source": [
    "<iframe src=\"https://docs.google.com/presentation/d/e/2PACX-1vSq7W0GFcNeAE8mfJTmLZmUlkKeDeIPKMbmD_VIjROEzrJfiB0mqDUI_xiceLMx0OMd8V61Rpd5DjeS/embed?start=false&loop=false&delayms=3000\" frameborder=\"0\" width=\"960\" height=\"569\" allowfullscreen=\"true\" mozallowfullscreen=\"true\" webkitallowfullscreen=\"true\"></iframe>"
   ]
  },
  {
   "cell_type": "code",
   "execution_count": null,
   "id": "916d0825-3204-4031-a59e-7c4f89e75cc7",
   "metadata": {},
   "outputs": [],
   "source": []
  },
  {
   "cell_type": "code",
   "execution_count": null,
   "id": "91d35ba2-5f7c-4572-b16f-5d4285c2bc01",
   "metadata": {},
   "outputs": [],
   "source": []
  },
  {
   "cell_type": "markdown",
   "id": "bc6711c0-a658-4de3-86f3-baa4a28518b9",
   "metadata": {},
   "source": [
    "<iframe src=\"https://docs.google.com/presentation/d/e/2PACX-1vSq7W0GFcNeAE8mfJTmLZmUlkKeDeIPKMbmD_VIjROEzrJfiB0mqDUI_xiceLMx0OMd8V61Rpd5DjeS/embed?start=false&loop=false&delayms=3000\" frameborder=\"0\" width=\"960\" height=\"569\" allowfullscreen=\"true\" mozallowfullscreen=\"true\" webkitallowfullscreen=\"true\"></iframe>"
   ]
  },
  {
   "cell_type": "markdown",
   "id": "67fe9b03-ae4b-45d5-bf51-d3c213f9fe02",
   "metadata": {},
   "source": [
    "<iframe src=\"https://docs.google.com/presentation/d/e/2PACX-1vSq7W0GFcNeAE8mfJTmLZmUlkKeDeIPKMbmD_VIjROEzrJfiB0mqDUI_xiceLMx0OMd8V61Rpd5DjeS/embed?start=false&loop=false&delayms=3000\" ></iframe>\n"
   ]
  },
  {
   "cell_type": "markdown",
   "id": "ef79bb2a-99ae-4bfc-9286-b0d917272053",
   "metadata": {},
   "source": [
    "<iframe src=\"https://docs.google.com/presentation/d/e/2PACX-1vSq7W0GFcNeAE8mfJTmLZmUlkKeDeIPKMbmD_VIjROEzrJfiB0mqDUI_xiceLMx0OMd8V61Rpd5DjeS/embed?start=false&loop=false&delayms=3000\" frameborder=\"0\" width=\"960\" height=\"569\" allowfullscreen=\"true\" mozallowfullscreen=\"true\" webkitallowfullscreen=\"true\"></iframe>"
   ]
  },
  {
   "cell_type": "code",
   "execution_count": null,
   "id": "34d7b7a6-8083-4870-9588-51b936250183",
   "metadata": {},
   "outputs": [],
   "source": []
  },
  {
   "cell_type": "code",
   "execution_count": null,
   "id": "78815570-e0ac-48f6-bd77-36de8633d430",
   "metadata": {},
   "outputs": [],
   "source": []
  },
  {
   "cell_type": "code",
   "execution_count": null,
   "id": "2ef679b8-9c27-458e-86d0-fa1e1cfadf7a",
   "metadata": {},
   "outputs": [],
   "source": []
  }
 ],
 "metadata": {
  "kernelspec": {
   "display_name": "py5",
   "language": "python",
   "name": "py5"
  },
  "language_info": {
   "codemirror_mode": {
    "name": "ipython",
    "version": 3
   },
   "file_extension": ".py",
   "mimetype": "text/x-python",
   "name": "python",
   "nbconvert_exporter": "python",
   "pygments_lexer": "ipython3",
   "version": "3.10.11"
  }
 },
 "nbformat": 4,
 "nbformat_minor": 5
}
